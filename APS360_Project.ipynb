{
  "nbformat": 4,
  "nbformat_minor": 0,
  "metadata": {
    "colab": {
      "provenance": []
    },
    "kernelspec": {
      "name": "python3",
      "display_name": "Python 3"
    },
    "language_info": {
      "name": "python"
    }
  },
  "cells": [
    {
      "cell_type": "code",
      "source": [
        "# Imports\n",
        "import numpy as np\n",
        "import pandas as pd\n",
        "import time\n",
        "import torch\n",
        "import torch.utils.data as data_utils\n",
        "import torch.nn as nn\n",
        "import torch.nn.functional as F\n",
        "import torch.optim as optim\n",
        "import matplotlib.pyplot as plt\n",
        "import torchvision\n",
        "from torch.utils.data.sampler import SubsetRandomSampler\n",
        "from torch.utils.data import WeightedRandomSampler\n",
        "import torchvision.transforms as transforms\n",
        "import torchvision.transforms.functional as TF\n",
        "\n",
        "from google.colab import drive\n",
        "torch.manual_seed(1000)\n",
        "drive.mount('/content/gdrive')\n",
        "\n",
        "from PIL import Image\n",
        "import os\n"
      ],
      "metadata": {
        "id": "2Uz-MPyuwcHi",
        "colab": {
          "base_uri": "https://localhost:8080/"
        },
        "outputId": "27e18a07-bd17-4780-909a-1f3c830f04ea"
      },
      "execution_count": 23,
      "outputs": [
        {
          "output_type": "stream",
          "name": "stdout",
          "text": [
            "Drive already mounted at /content/gdrive; to attempt to forcibly remount, call drive.mount(\"/content/gdrive\", force_remount=True).\n"
          ]
        }
      ]
    },
    {
      "cell_type": "code",
      "source": [
        "\n",
        "drive.mount('/content/gdrive')\n",
        "\n",
        "\n",
        "\n",
        "import torchvision.datasets as datasets\n",
        "from torch.utils.data import DataLoader, WeightedRandomSampler\n",
        "\n",
        "# define the parent directory where the train and test subdirectories are located\n",
        "# CHANGE THIS TO MATCH YOUR PARENT DIRECTORY\n",
        "parent_dir = '/content/gdrive/MyDrive/aps360/Data_new'\n",
        "\n",
        "# define the data transformations to be applied to the images\n",
        "train_transforms = transforms.Compose([\n",
        "    transforms.RandomResizedCrop(size=256),\n",
        "    transforms.RandomRotation(degrees=15),\n",
        "    transforms.RandomHorizontalFlip(),\n",
        "    transforms.ToTensor(),\n",
        "    transforms.Normalize([0.485, 0.456, 0.406], [0.229, 0.224, 0.225])\n",
        "])\n",
        "test_transforms = transforms.Compose([\n",
        "    transforms.Resize(size=256),\n",
        "    transforms.CenterCrop(size=224),\n",
        "    transforms.ToTensor(),\n",
        "    transforms.Normalize([0.485, 0.456, 0.406], [0.229, 0.224, 0.225])\n",
        "])\n",
        "\n",
        "\n",
        "\n"
      ],
      "metadata": {
        "id": "9BoIxQzIwa6P",
        "colab": {
          "base_uri": "https://localhost:8080/"
        },
        "outputId": "74f49b42-a662-4631-ae41-f8c69a286e97"
      },
      "execution_count": 2,
      "outputs": [
        {
          "output_type": "stream",
          "name": "stdout",
          "text": [
            "Drive already mounted at /content/gdrive; to attempt to forcibly remount, call drive.mount(\"/content/gdrive\", force_remount=True).\n"
          ]
        }
      ]
    },
    {
      "cell_type": "code",
      "source": [
        "\n",
        "# Apply data augmentation techniques on dataset\n",
        "\n",
        "######## train #############\n",
        "train_data = datasets.ImageFolder(os.path.join(parent_dir, 'train'), transform=train_transforms)\n",
        "# set color_mode to 'RGB'\n",
        "train_data.color_mode = 'RGB'\n",
        "\n",
        "# set class_mode to 'categorical'\n",
        "train_data.class_mode = 'categorical'\n",
        "\n",
        "# Calculate class frequency\n",
        "class_freq = np.array([len(np.where(np.array(train_data.targets) == t)[0]) for t in range(len(train_data.classes))])\n",
        "print(f'Class frequency wrt train: {class_freq}')\n",
        "\n",
        "# Calculate class weights to balance class frequency\n",
        "class_weights = 1.0 / torch.tensor(class_freq, dtype=torch.float)\n",
        "print(f'Class weights wrt train: {class_weights}')\n",
        "\n",
        "# Create sampler to be used in DataLoader\n",
        "train_targets = torch.tensor(train_data.targets)\n",
        "train_sampler = WeightedRandomSampler(weights=class_weights[train_targets], num_samples=len(train_targets), replacement=True)\n",
        "\n",
        "# Confirm balanced class frequency\n",
        "train_freqs_after_sampler = [0] * len(train_data.classes)\n",
        "for idx in train_sampler:\n",
        "    train_freqs_after_sampler[train_data.targets[idx]] += 1\n",
        "print(f'Class frequency after weighting for training set: {train_freqs_after_sampler}')\n",
        "\n",
        "train_loader = DataLoader(train_data, batch_size=32,sampler=train_sampler, num_workers=4)\n",
        "\n",
        "###########################\n",
        "\n",
        "####### test ###############\n",
        "test_data = datasets.ImageFolder(os.path.join(parent_dir, 'test'), transform=test_transforms)\n",
        "\n",
        "# set color_mode to 'RGB'\n",
        "test_data.color_mode = 'RGB'\n",
        "\n",
        "# set class_mode to 'categorical'\n",
        "test_data.class_mode = 'categorical'\n",
        "\n",
        "# Calculate class frequency\n",
        "class_freq = np.array([len(np.where(np.array(test_data.targets) == t)[0]) for t in range(len(train_data.classes))])\n",
        "print(f'Class frequency wrt test: {class_freq}')\n",
        "\n",
        "# Calculate class weights to balance class frequency\n",
        "class_weights = 1.0 / torch.tensor(class_freq, dtype=torch.float)\n",
        "print(f'Class weights wrt test: {class_weights}')\n",
        "\n",
        "# Create sampler to be used in DataLoader\n",
        "test_targets = torch.tensor(test_data.targets)\n",
        "test_sampler = WeightedRandomSampler(weights=class_weights[test_targets], num_samples=len(test_targets), replacement=True)\n",
        "\n",
        "# Confirm balanced class frequency\n",
        "freqs = [0] * len(test_data.classes)\n",
        "for idx in test_sampler:\n",
        "    freqs[test_data.targets[idx]] += 1\n",
        "print(f'Class frequency after weighting for test set: {freqs}')\n",
        "test_loader = DataLoader(test_data, batch_size=32, sampler=test_sampler, num_workers=4)\n",
        "\n",
        "############################\n",
        "\n",
        "\n",
        "\n",
        "\n",
        "\n"
      ],
      "metadata": {
        "id": "y9XXjNtFhu30",
        "colab": {
          "base_uri": "https://localhost:8080/"
        },
        "outputId": "89c6e4a5-9201-4a4f-e247-62bc95aee103"
      },
      "execution_count": 29,
      "outputs": [
        {
          "output_type": "stream",
          "name": "stdout",
          "text": [
            "Class frequency wrt train: [ 470 1266 3419]\n",
            "Class weights wrt train: tensor([0.0021, 0.0008, 0.0003])\n",
            "Class frequency after weighting for training set: [1703, 1739, 1713]\n",
            "Class frequency wrt test: [116 317 855]\n",
            "Class weights wrt test: tensor([0.0086, 0.0032, 0.0012])\n",
            "Class frequency after weighting for test set: [440, 425, 423]\n"
          ]
        },
        {
          "output_type": "stream",
          "name": "stderr",
          "text": [
            "/usr/local/lib/python3.9/dist-packages/torch/utils/data/dataloader.py:554: UserWarning: This DataLoader will create 4 worker processes in total. Our suggested max number of worker in current system is 2, which is smaller than what this DataLoader is going to create. Please be aware that excessive worker creation might get DataLoader running slow or even freeze, lower the worker number to avoid potential slowness/freeze if necessary.\n",
            "  warnings.warn(_create_warning_msg(\n"
          ]
        }
      ]
    },
    {
      "cell_type": "markdown",
      "source": [
        "# Exploratory statistical analysis\n",
        "\n"
      ],
      "metadata": {
        "id": "sctAAjAkTQjt"
      }
    },
    {
      "cell_type": "code",
      "source": [
        "# Exploratory statistical analysis\n",
        "\n",
        "# Get class names and counts\n",
        "class_names = train_data.classes\n",
        "class_counts = np.bincount(train_data.targets)\n",
        "print(class_counts)\n",
        "\n",
        "# Create bar chart for training data distrib b4 apply weighted sampler\n",
        "fig, ax = plt.subplots()\n",
        "ax.bar(class_names, class_counts)\n",
        "ax.set_xlabel('Class')\n",
        "ax.set_ylabel('Count')\n",
        "ax.set_title('Distribution of Classes in Train Data')\n",
        "plt.show()\n",
        "\n",
        "\n",
        "from torchvision.transforms import ToPILImage\n",
        "\n",
        "\n",
        "\n"
      ],
      "metadata": {
        "id": "SnOWV23jbgyF",
        "colab": {
          "base_uri": "https://localhost:8080/",
          "height": 313
        },
        "outputId": "98f3a514-3f86-49e2-fd5f-289fccaa9a6e"
      },
      "execution_count": 28,
      "outputs": [
        {
          "output_type": "stream",
          "name": "stdout",
          "text": [
            "[ 470 1266 3419]\n"
          ]
        },
        {
          "output_type": "display_data",
          "data": {
            "text/plain": [
              "<Figure size 432x288 with 1 Axes>"
            ],
            "image/png": "[encoded data removed]"
          },
          "metadata": {
            "needs_background": "light"
          }
        }
      ]
    },
    {
      "cell_type": "code",
      "source": [
        "#  Compute mean and standard deviation of ALL images( no sampler applied)\n",
        "mean = 0.0\n",
        "std = 0.0\n",
        "to_pil = ToPILImage()\n",
        "for img, _ in train_data:\n",
        "    img = to_pil(img)  # Convert tensor to PIL Image\n",
        "    mean += torch.mean(TF.to_tensor(img))\n",
        "    std += torch.std(TF.to_tensor(img))\n",
        "\n",
        "mean /= len(train_data)\n",
        "std /= len(train_data)\n",
        "\n",
        "print(f'Mean: {mean:.4f}, Std: {std:.4f}')"
      ],
      "metadata": {
        "colab": {
          "base_uri": "https://localhost:8080/"
        },
        "id": "iTPS0myDRx-5",
        "outputId": "60479cb1-c47d-4919-d5f0-54061553c3f7"
      },
      "execution_count": 32,
      "outputs": [
        {
          "output_type": "stream",
          "name": "stdout",
          "text": [
            "Mean: 0.5046, Std: 0.2973\n"
          ]
        }
      ]
    },
    {
      "cell_type": "code",
      "source": [
        "# Exploratory statistical analysis\n",
        "\n",
        "class_names = train_data.classes\n",
        "\n",
        "\n",
        "# Create bar chart for training data distrib after apply weighted sampler\n",
        "fig, ax = plt.subplots()\n",
        "ax.bar(class_names, train_freqs_after_sampler)\n",
        "ax.set_xlabel('Class')\n",
        "ax.set_ylabel('Count')\n",
        "ax.set_title('Distribution of Classes in Train Data After Weighted Re-Sampling')\n",
        "plt.show()\n"
      ],
      "metadata": {
        "colab": {
          "base_uri": "https://localhost:8080/",
          "height": 295
        },
        "id": "jMAxeqpdQQBm",
        "outputId": "5cc7dd67-de2e-497f-b88c-25b0c585d008"
      },
      "execution_count": 31,
      "outputs": [
        {
          "output_type": "display_data",
          "data": {
            "text/plain": [
              "<Figure size 432x288 with 1 Axes>"
            ],
            "image/png": "[encoded data removed]"
          },
          "metadata": {
            "needs_background": "light"
          }
        }
      ]
    },
    {
      "cell_type": "markdown",
      "source": [
        "# Separate code and import for baseline model"
      ],
      "metadata": {
        "id": "vvAwEdSuaTh4"
      }
    },
    {
      "cell_type": "code",
      "source": [
        "!apt-get install git -y\n",
        "!git clone https://github.com/KevinGe00/Pneumonia-CNN-Classifier.git"
      ],
      "metadata": {
        "colab": {
          "base_uri": "https://localhost:8080/"
        },
        "id": "k6qxqLm8aNym",
        "outputId": "13391958-af8f-43fc-859f-a22271e7af4f"
      },
      "execution_count": 9,
      "outputs": [
        {
          "output_type": "stream",
          "name": "stdout",
          "text": [
            "Reading package lists... Done\n",
            "Building dependency tree       \n",
            "Reading state information... Done\n",
            "git is already the newest version (1:2.25.1-1ubuntu3.10).\n",
            "0 upgraded, 0 newly installed, 0 to remove and 23 not upgraded.\n",
            "Cloning into 'Pneumonia-CNN-Classifier'...\n",
            "remote: Enumerating objects: 6415, done.\u001b[K\n",
            "remote: Counting objects: 100% (6415/6415), done.\u001b[K\n",
            "remote: Compressing objects: 100% (6412/6412), done.\u001b[K\n",
            "^C\n"
          ]
        }
      ]
    },
    {
      "cell_type": "code",
      "source": [
        "import os\n",
        "import numpy as np\n",
        "from PIL import Image\n",
        "from sklearn import svm, metrics\n",
        "\n",
        "# Define the paths to the train and test datasets\n",
        "train_path = '/content/Pneumonia-CNN-Classifier/Data_new/train'\n",
        "test_path = '/content/Pneumonia-CNN-Classifier/Data_new/test'\n",
        "\n",
        "# Load the training images and their labels\n",
        "train_data = []\n",
        "train_labels = []\n",
        "for class_label in os.listdir(train_path):\n",
        "    if os.path.isdir(os.path.join(train_path, class_label)):\n",
        "        for filename in os.listdir(os.path.join(train_path, class_label)):\n",
        "            if filename.endswith('.jpg'):\n",
        "                img_path = os.path.join(train_path, class_label, filename)\n",
        "                img = Image.open(img_path)\n",
        "                train_data.append(np.array(img).reshape(-1))\n",
        "                train_labels.append(class_label)\n",
        "                \n",
        "# Convert the training data and labels to numpy arrays\n",
        "train_data = np.array(train_data)\n",
        "train_labels = np.array(train_labels)\n",
        "\n",
        "# Load the testing images and their labels\n",
        "test_data = []\n",
        "test_labels = []\n",
        "for class_label in os.listdir(test_path): # COVID19, NORMAL, PNEUMONIA\n",
        "    if os.path.isdir(os.path.join(test_path, class_label)):\n",
        "        for filename in os.listdir(os.path.join(test_path, class_label)):\n",
        "            if filename.endswith('.jpg'):\n",
        "                img_path = os.path.join(test_path, class_label, filename)\n",
        "                img = Image.open(img_path)\n",
        "                test_data.append(np.array(img).reshape(-1))\n",
        "                test_labels.append(class_label)\n",
        "                \n",
        "# Convert the testing data and labels to numpy arrays\n",
        "test_data = np.array(test_data)\n",
        "test_labels = np.array(test_labels)\n",
        "\n",
        "# Define the SVM classifier\n",
        "clf = svm.SVC(kernel='linear', C=1, decision_function_shape='ovr')\n",
        "\n",
        "# Train the classifier using the training data\n",
        "clf.fit(train_data, train_labels)\n",
        "\n",
        "# Predict the classes of the test data\n",
        "y_pred = clf.predict(test_data)\n",
        "\n",
        "# Print the classification report\n",
        "print(metrics.classification_report(test_labels, y_pred))"
      ],
      "metadata": {
        "id": "hdgwZJ1GaStZ",
        "colab": {
          "base_uri": "https://localhost:8080/",
          "height": 235
        },
        "outputId": "78274282-5f77-4d35-e46e-177d1e94974f"
      },
      "execution_count": null,
      "outputs": [
        {
          "output_type": "error",
          "ename": "FileNotFoundError",
          "evalue": "ignored",
          "traceback": [
            "\u001b[0;31m---------------------------------------------------------------------------\u001b[0m",
            "\u001b[0;31mFileNotFoundError\u001b[0m                         Traceback (most recent call last)",
            "\u001b[0;32m<ipython-input-1-ca1f4ba211c9>\u001b[0m in \u001b[0;36m<module>\u001b[0;34m\u001b[0m\n\u001b[1;32m     11\u001b[0m \u001b[0mtrain_data\u001b[0m \u001b[0;34m=\u001b[0m \u001b[0;34m[\u001b[0m\u001b[0;34m]\u001b[0m\u001b[0;34m\u001b[0m\u001b[0;34m\u001b[0m\u001b[0m\n\u001b[1;32m     12\u001b[0m \u001b[0mtrain_labels\u001b[0m \u001b[0;34m=\u001b[0m \u001b[0;34m[\u001b[0m\u001b[0;34m]\u001b[0m\u001b[0;34m\u001b[0m\u001b[0;34m\u001b[0m\u001b[0m\n\u001b[0;32m---> 13\u001b[0;31m \u001b[0;32mfor\u001b[0m \u001b[0mclass_label\u001b[0m \u001b[0;32min\u001b[0m \u001b[0mos\u001b[0m\u001b[0;34m.\u001b[0m\u001b[0mlistdir\u001b[0m\u001b[0;34m(\u001b[0m\u001b[0mtrain_path\u001b[0m\u001b[0;34m)\u001b[0m\u001b[0;34m:\u001b[0m\u001b[0;34m\u001b[0m\u001b[0;34m\u001b[0m\u001b[0m\n\u001b[0m\u001b[1;32m     14\u001b[0m     \u001b[0;32mif\u001b[0m \u001b[0mos\u001b[0m\u001b[0;34m.\u001b[0m\u001b[0mpath\u001b[0m\u001b[0;34m.\u001b[0m\u001b[0misdir\u001b[0m\u001b[0;34m(\u001b[0m\u001b[0mos\u001b[0m\u001b[0;34m.\u001b[0m\u001b[0mpath\u001b[0m\u001b[0;34m.\u001b[0m\u001b[0mjoin\u001b[0m\u001b[0;34m(\u001b[0m\u001b[0mtrain_path\u001b[0m\u001b[0;34m,\u001b[0m \u001b[0mclass_label\u001b[0m\u001b[0;34m)\u001b[0m\u001b[0;34m)\u001b[0m\u001b[0;34m:\u001b[0m\u001b[0;34m\u001b[0m\u001b[0;34m\u001b[0m\u001b[0m\n\u001b[1;32m     15\u001b[0m         \u001b[0;32mfor\u001b[0m \u001b[0mfilename\u001b[0m \u001b[0;32min\u001b[0m \u001b[0mos\u001b[0m\u001b[0;34m.\u001b[0m\u001b[0mlistdir\u001b[0m\u001b[0;34m(\u001b[0m\u001b[0mos\u001b[0m\u001b[0;34m.\u001b[0m\u001b[0mpath\u001b[0m\u001b[0;34m.\u001b[0m\u001b[0mjoin\u001b[0m\u001b[0;34m(\u001b[0m\u001b[0mtrain_path\u001b[0m\u001b[0;34m,\u001b[0m \u001b[0mclass_label\u001b[0m\u001b[0;34m)\u001b[0m\u001b[0;34m)\u001b[0m\u001b[0;34m:\u001b[0m\u001b[0;34m\u001b[0m\u001b[0;34m\u001b[0m\u001b[0m\n",
            "\u001b[0;31mFileNotFoundError\u001b[0m: [Errno 2] No such file or directory: '/content/Pneumonia-CNN-Classifier/Data_new/train'"
          ]
        }
      ]
    }
  ]
}